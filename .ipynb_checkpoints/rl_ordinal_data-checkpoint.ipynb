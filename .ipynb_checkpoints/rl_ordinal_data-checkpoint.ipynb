{
 "cells": [
  {
   "cell_type": "markdown",
   "id": "838fa411",
   "metadata": {},
   "source": [
    "# Etude de regression linéaire multiple sur la prediction des salaires en ville de BUTEMBO"
   ]
  },
  {
   "cell_type": "markdown",
   "id": "f9e1521b",
   "metadata": {},
   "source": [
    "Dans ce etude nous allons crée un modèle de regression lineaire multiple sur la prediction des salaires en ville de Butembo, en se basant globalement sur le temps passer en entreprise, le nombre d'enfant."
   ]
  },
  {
   "cell_type": "markdown",
   "id": "3ebda271",
   "metadata": {},
   "source": [
    "# Importation des librairies"
   ]
  },
  {
   "cell_type": "code",
   "execution_count": 22,
   "id": "d7e72f23",
   "metadata": {},
   "outputs": [],
   "source": [
    "# importation des librairies\n",
    "import numpy as np\n",
    "import pandas as pd\n",
    "from sklearn.model_selection import train_test_split\n",
    "from sklearn.linear_model import LinearRegression"
   ]
  },
  {
   "cell_type": "code",
   "execution_count": 23,
   "id": "60877d15",
   "metadata": {},
   "outputs": [
    {
     "data": {
      "text/plain": [
       "'C:\\\\Users\\\\Victoire\\\\anaconda3\\\\Projets\\\\Learning\\\\Memoire Haraka\\\\rl-multiple-prediction-salaire'"
      ]
     },
     "execution_count": 23,
     "metadata": {},
     "output_type": "execute_result"
    }
   ],
   "source": [
    "# on va chercher a savoir l'emplacement du fichier courant\n",
    "import os\n",
    "os.getcwd()"
   ]
  },
  {
   "cell_type": "code",
   "execution_count": 24,
   "id": "2b9a3068",
   "metadata": {},
   "outputs": [
    {
     "data": {
      "text/html": [
       "<div>\n",
       "<style scoped>\n",
       "    .dataframe tbody tr th:only-of-type {\n",
       "        vertical-align: middle;\n",
       "    }\n",
       "\n",
       "    .dataframe tbody tr th {\n",
       "        vertical-align: top;\n",
       "    }\n",
       "\n",
       "    .dataframe thead th {\n",
       "        text-align: right;\n",
       "    }\n",
       "</style>\n",
       "<table border=\"1\" class=\"dataframe\">\n",
       "  <thead>\n",
       "    <tr style=\"text-align: right;\">\n",
       "      <th></th>\n",
       "      <th>Temps-au-sein-de-votre-eSE</th>\n",
       "      <th>Nbr-enfants</th>\n",
       "      <th>Salaire</th>\n",
       "    </tr>\n",
       "  </thead>\n",
       "  <tbody>\n",
       "    <tr>\n",
       "      <th>0</th>\n",
       "      <td>1.0</td>\n",
       "      <td>0</td>\n",
       "      <td>50</td>\n",
       "    </tr>\n",
       "    <tr>\n",
       "      <th>1</th>\n",
       "      <td>0.5</td>\n",
       "      <td>0</td>\n",
       "      <td>30</td>\n",
       "    </tr>\n",
       "    <tr>\n",
       "      <th>2</th>\n",
       "      <td>1.0</td>\n",
       "      <td>0</td>\n",
       "      <td>50</td>\n",
       "    </tr>\n",
       "    <tr>\n",
       "      <th>3</th>\n",
       "      <td>2.0</td>\n",
       "      <td>1</td>\n",
       "      <td>0</td>\n",
       "    </tr>\n",
       "    <tr>\n",
       "      <th>4</th>\n",
       "      <td>10.0</td>\n",
       "      <td>0</td>\n",
       "      <td>100</td>\n",
       "    </tr>\n",
       "    <tr>\n",
       "      <th>...</th>\n",
       "      <td>...</td>\n",
       "      <td>...</td>\n",
       "      <td>...</td>\n",
       "    </tr>\n",
       "    <tr>\n",
       "      <th>242</th>\n",
       "      <td>1.0</td>\n",
       "      <td>0</td>\n",
       "      <td>20</td>\n",
       "    </tr>\n",
       "    <tr>\n",
       "      <th>243</th>\n",
       "      <td>0.5</td>\n",
       "      <td>1</td>\n",
       "      <td>100</td>\n",
       "    </tr>\n",
       "    <tr>\n",
       "      <th>244</th>\n",
       "      <td>1.0</td>\n",
       "      <td>0</td>\n",
       "      <td>200</td>\n",
       "    </tr>\n",
       "    <tr>\n",
       "      <th>245</th>\n",
       "      <td>3.0</td>\n",
       "      <td>1</td>\n",
       "      <td>200</td>\n",
       "    </tr>\n",
       "    <tr>\n",
       "      <th>246</th>\n",
       "      <td>1.0</td>\n",
       "      <td>0</td>\n",
       "      <td>200</td>\n",
       "    </tr>\n",
       "  </tbody>\n",
       "</table>\n",
       "<p>247 rows × 3 columns</p>\n",
       "</div>"
      ],
      "text/plain": [
       "     Temps-au-sein-de-votre-eSE  Nbr-enfants  Salaire\n",
       "0                           1.0            0       50\n",
       "1                           0.5            0       30\n",
       "2                           1.0            0       50\n",
       "3                           2.0            1        0\n",
       "4                          10.0            0      100\n",
       "..                          ...          ...      ...\n",
       "242                         1.0            0       20\n",
       "243                         0.5            1      100\n",
       "244                         1.0            0      200\n",
       "245                         3.0            1      200\n",
       "246                         1.0            0      200\n",
       "\n",
       "[247 rows x 3 columns]"
      ]
     },
     "execution_count": 24,
     "metadata": {},
     "output_type": "execute_result"
    }
   ],
   "source": [
    "# importation du dataset\n",
    "Data = pd.read_csv('SalairesOD.csv')\n",
    "Data"
   ]
  },
  {
   "cell_type": "code",
   "execution_count": 25,
   "id": "510dfaa1",
   "metadata": {},
   "outputs": [],
   "source": [
    "# on divise le dataset\n",
    "# on met dans X toutes les colonnes sauf la dernier qui est la variable expliquer\n",
    "# on met dans Y la dernier colonne uniquement sauf les colonnes portant les variables explicatifs\n",
    "X = Data.iloc[:,:-1]\n",
    "Y = Data.iloc[:,-1]"
   ]
  },
  {
   "cell_type": "code",
   "execution_count": 26,
   "id": "dc78fc72",
   "metadata": {},
   "outputs": [
    {
     "data": {
      "text/html": [
       "<div>\n",
       "<style scoped>\n",
       "    .dataframe tbody tr th:only-of-type {\n",
       "        vertical-align: middle;\n",
       "    }\n",
       "\n",
       "    .dataframe tbody tr th {\n",
       "        vertical-align: top;\n",
       "    }\n",
       "\n",
       "    .dataframe thead th {\n",
       "        text-align: right;\n",
       "    }\n",
       "</style>\n",
       "<table border=\"1\" class=\"dataframe\">\n",
       "  <thead>\n",
       "    <tr style=\"text-align: right;\">\n",
       "      <th></th>\n",
       "      <th>Temps-au-sein-de-votre-eSE</th>\n",
       "      <th>Nbr-enfants</th>\n",
       "    </tr>\n",
       "  </thead>\n",
       "  <tbody>\n",
       "    <tr>\n",
       "      <th>0</th>\n",
       "      <td>1.0</td>\n",
       "      <td>0</td>\n",
       "    </tr>\n",
       "    <tr>\n",
       "      <th>1</th>\n",
       "      <td>0.5</td>\n",
       "      <td>0</td>\n",
       "    </tr>\n",
       "    <tr>\n",
       "      <th>2</th>\n",
       "      <td>1.0</td>\n",
       "      <td>0</td>\n",
       "    </tr>\n",
       "    <tr>\n",
       "      <th>3</th>\n",
       "      <td>2.0</td>\n",
       "      <td>1</td>\n",
       "    </tr>\n",
       "    <tr>\n",
       "      <th>4</th>\n",
       "      <td>10.0</td>\n",
       "      <td>0</td>\n",
       "    </tr>\n",
       "    <tr>\n",
       "      <th>...</th>\n",
       "      <td>...</td>\n",
       "      <td>...</td>\n",
       "    </tr>\n",
       "    <tr>\n",
       "      <th>242</th>\n",
       "      <td>1.0</td>\n",
       "      <td>0</td>\n",
       "    </tr>\n",
       "    <tr>\n",
       "      <th>243</th>\n",
       "      <td>0.5</td>\n",
       "      <td>1</td>\n",
       "    </tr>\n",
       "    <tr>\n",
       "      <th>244</th>\n",
       "      <td>1.0</td>\n",
       "      <td>0</td>\n",
       "    </tr>\n",
       "    <tr>\n",
       "      <th>245</th>\n",
       "      <td>3.0</td>\n",
       "      <td>1</td>\n",
       "    </tr>\n",
       "    <tr>\n",
       "      <th>246</th>\n",
       "      <td>1.0</td>\n",
       "      <td>0</td>\n",
       "    </tr>\n",
       "  </tbody>\n",
       "</table>\n",
       "<p>247 rows × 2 columns</p>\n",
       "</div>"
      ],
      "text/plain": [
       "     Temps-au-sein-de-votre-eSE  Nbr-enfants\n",
       "0                           1.0            0\n",
       "1                           0.5            0\n",
       "2                           1.0            0\n",
       "3                           2.0            1\n",
       "4                          10.0            0\n",
       "..                          ...          ...\n",
       "242                         1.0            0\n",
       "243                         0.5            1\n",
       "244                         1.0            0\n",
       "245                         3.0            1\n",
       "246                         1.0            0\n",
       "\n",
       "[247 rows x 2 columns]"
      ]
     },
     "execution_count": 26,
     "metadata": {},
     "output_type": "execute_result"
    }
   ],
   "source": [
    "# on visualise les variables explicatifs\n",
    "X"
   ]
  },
  {
   "cell_type": "code",
   "execution_count": 27,
   "id": "21d07985",
   "metadata": {},
   "outputs": [
    {
     "data": {
      "text/plain": [
       "0       50\n",
       "1       30\n",
       "2       50\n",
       "3        0\n",
       "4      100\n",
       "      ... \n",
       "242     20\n",
       "243    100\n",
       "244    200\n",
       "245    200\n",
       "246    200\n",
       "Name: Salaire, Length: 247, dtype: int64"
      ]
     },
     "execution_count": 27,
     "metadata": {},
     "output_type": "execute_result"
    }
   ],
   "source": [
    "# on visualise la variable expliquer\n",
    "Y"
   ]
  },
  {
   "cell_type": "code",
   "execution_count": 28,
   "id": "6f1508d7",
   "metadata": {},
   "outputs": [],
   "source": [
    "# On divise le dataset\n",
    "X_train, X_test, Y_train, Y_test = train_test_split(X,Y,test_size=0.2)"
   ]
  },
  {
   "cell_type": "code",
   "execution_count": 29,
   "id": "8e129421",
   "metadata": {},
   "outputs": [
    {
     "data": {
      "text/html": [
       "<div>\n",
       "<style scoped>\n",
       "    .dataframe tbody tr th:only-of-type {\n",
       "        vertical-align: middle;\n",
       "    }\n",
       "\n",
       "    .dataframe tbody tr th {\n",
       "        vertical-align: top;\n",
       "    }\n",
       "\n",
       "    .dataframe thead th {\n",
       "        text-align: right;\n",
       "    }\n",
       "</style>\n",
       "<table border=\"1\" class=\"dataframe\">\n",
       "  <thead>\n",
       "    <tr style=\"text-align: right;\">\n",
       "      <th></th>\n",
       "      <th>Temps-au-sein-de-votre-eSE</th>\n",
       "      <th>Nbr-enfants</th>\n",
       "    </tr>\n",
       "  </thead>\n",
       "  <tbody>\n",
       "    <tr>\n",
       "      <th>231</th>\n",
       "      <td>4.0</td>\n",
       "      <td>0</td>\n",
       "    </tr>\n",
       "    <tr>\n",
       "      <th>31</th>\n",
       "      <td>0.5</td>\n",
       "      <td>0</td>\n",
       "    </tr>\n",
       "    <tr>\n",
       "      <th>239</th>\n",
       "      <td>3.0</td>\n",
       "      <td>2</td>\n",
       "    </tr>\n",
       "    <tr>\n",
       "      <th>145</th>\n",
       "      <td>2.0</td>\n",
       "      <td>10</td>\n",
       "    </tr>\n",
       "    <tr>\n",
       "      <th>128</th>\n",
       "      <td>3.0</td>\n",
       "      <td>10</td>\n",
       "    </tr>\n",
       "    <tr>\n",
       "      <th>...</th>\n",
       "      <td>...</td>\n",
       "      <td>...</td>\n",
       "    </tr>\n",
       "    <tr>\n",
       "      <th>241</th>\n",
       "      <td>1.0</td>\n",
       "      <td>0</td>\n",
       "    </tr>\n",
       "    <tr>\n",
       "      <th>51</th>\n",
       "      <td>3.0</td>\n",
       "      <td>0</td>\n",
       "    </tr>\n",
       "    <tr>\n",
       "      <th>212</th>\n",
       "      <td>3.0</td>\n",
       "      <td>2</td>\n",
       "    </tr>\n",
       "    <tr>\n",
       "      <th>138</th>\n",
       "      <td>5.0</td>\n",
       "      <td>1</td>\n",
       "    </tr>\n",
       "    <tr>\n",
       "      <th>20</th>\n",
       "      <td>2.0</td>\n",
       "      <td>10</td>\n",
       "    </tr>\n",
       "  </tbody>\n",
       "</table>\n",
       "<p>197 rows × 2 columns</p>\n",
       "</div>"
      ],
      "text/plain": [
       "     Temps-au-sein-de-votre-eSE  Nbr-enfants\n",
       "231                         4.0            0\n",
       "31                          0.5            0\n",
       "239                         3.0            2\n",
       "145                         2.0           10\n",
       "128                         3.0           10\n",
       "..                          ...          ...\n",
       "241                         1.0            0\n",
       "51                          3.0            0\n",
       "212                         3.0            2\n",
       "138                         5.0            1\n",
       "20                          2.0           10\n",
       "\n",
       "[197 rows x 2 columns]"
      ]
     },
     "execution_count": 29,
     "metadata": {},
     "output_type": "execute_result"
    }
   ],
   "source": [
    "# on affiche le donnees de X apres entrainement en 0.2 ou 20%\n",
    "X_train"
   ]
  },
  {
   "cell_type": "markdown",
   "id": "16c94907",
   "metadata": {},
   "source": [
    "# Construction du model"
   ]
  },
  {
   "cell_type": "code",
   "execution_count": 30,
   "id": "46e509b4",
   "metadata": {},
   "outputs": [
    {
     "data": {
      "text/plain": [
       "LinearRegression()"
      ]
     },
     "execution_count": 30,
     "metadata": {},
     "output_type": "execute_result"
    }
   ],
   "source": [
    "# on construit le model\n",
    "regressor = LinearRegression()\n",
    "regressor.fit(X_train, Y_train)"
   ]
  },
  {
   "cell_type": "code",
   "execution_count": 31,
   "id": "47c5f721",
   "metadata": {},
   "outputs": [],
   "source": [
    "# on cree la fx pour la rediction\n",
    "Y_pred = regressor.predict(X_test)"
   ]
  },
  {
   "cell_type": "code",
   "execution_count": 32,
   "id": "980f494e",
   "metadata": {},
   "outputs": [
    {
     "data": {
      "text/plain": [
       "array([323.5005101 , 323.5005101 , 276.14980499, 117.20745107,\n",
       "       175.82798809, 140.88280363, 148.77458781, 125.09923526,\n",
       "       154.40950377, 125.09923526, 284.04158918, 148.77458781,\n",
       "       160.04441972, 167.9362039 , 117.20745107, 113.26155898,\n",
       "       276.14980499, 268.25802081, 125.09923526, 117.20745107,\n",
       "       113.26155898, 284.04158918, 188.23350874, 132.99101944,\n",
       "       117.20745107, 132.99101944, 113.26155898, 323.5005101 ,\n",
       "       323.5005101 , 268.25802081, 113.26155898, 140.88280363,\n",
       "       130.73415121, 125.09923526, 160.04441972, 167.9362039 ,\n",
       "       323.5005101 , 148.77458781, 323.5005101 , 323.5005101 ,\n",
       "       167.9362039 , 323.5005101 , 125.09923526, 152.15263553,\n",
       "       175.82798809, 132.99101944, 117.20745107, 125.09923526,\n",
       "       146.51771958, 132.99101944])"
      ]
     },
     "execution_count": 32,
     "metadata": {},
     "output_type": "execute_result"
    }
   ],
   "source": [
    "# on affcihe les valeurs de prediction de notre model\n",
    "Y_pred"
   ]
  },
  {
   "cell_type": "code",
   "execution_count": 33,
   "id": "2ef3619c",
   "metadata": {},
   "outputs": [
    {
     "data": {
      "text/plain": [
       "173      90\n",
       "170      90\n",
       "144     300\n",
       "22       50\n",
       "169     200\n",
       "158      70\n",
       "35      100\n",
       "66      200\n",
       "192     100\n",
       "88      150\n",
       "224     500\n",
       "217      50\n",
       "23       30\n",
       "114     200\n",
       "246     200\n",
       "42      500\n",
       "142     350\n",
       "147     300\n",
       "176      50\n",
       "10       50\n",
       "26      500\n",
       "148     200\n",
       "64       90\n",
       "99      250\n",
       "77      200\n",
       "191     100\n",
       "44      300\n",
       "163    1000\n",
       "181     300\n",
       "112      70\n",
       "15       25\n",
       "201      50\n",
       "160     100\n",
       "198      80\n",
       "81      500\n",
       "126     100\n",
       "236     300\n",
       "219      80\n",
       "164     500\n",
       "52     1000\n",
       "109      80\n",
       "215     500\n",
       "9        30\n",
       "63       90\n",
       "168     150\n",
       "155      50\n",
       "186      50\n",
       "161      80\n",
       "230      80\n",
       "221     150\n",
       "Name: Salaire, dtype: int64"
      ]
     },
     "execution_count": 33,
     "metadata": {},
     "output_type": "execute_result"
    }
   ],
   "source": [
    "# on affcihe les valeurs de la realité pour notre model\n",
    "Y_test"
   ]
  },
  {
   "cell_type": "markdown",
   "id": "da530ae7",
   "metadata": {},
   "source": [
    "# Prediction a partir de notre model"
   ]
  },
  {
   "cell_type": "code",
   "execution_count": 34,
   "id": "bfc8e9dd",
   "metadata": {},
   "outputs": [
    {
     "name": "stderr",
     "output_type": "stream",
     "text": [
      "C:\\Users\\Victoire\\anaconda3\\lib\\site-packages\\sklearn\\base.py:450: UserWarning: X does not have valid feature names, but LinearRegression was fitted with feature names\n",
      "  warnings.warn(\n"
     ]
    },
    {
     "data": {
      "text/plain": [
       "array([148.77458781])"
      ]
     },
     "execution_count": 34,
     "metadata": {},
     "output_type": "execute_result"
    }
   ],
   "source": [
    "# on va chercher a predir apartir de notre model pour des donnees qui ne sont pas dans le dataset\n",
    "regressor.predict([[5,0]])"
   ]
  },
  {
   "cell_type": "code",
   "execution_count": null,
   "id": "2a09cb0e",
   "metadata": {},
   "outputs": [],
   "source": []
  }
 ],
 "metadata": {
  "kernelspec": {
   "display_name": "Python 3 (ipykernel)",
   "language": "python",
   "name": "python3"
  },
  "language_info": {
   "codemirror_mode": {
    "name": "ipython",
    "version": 3
   },
   "file_extension": ".py",
   "mimetype": "text/x-python",
   "name": "python",
   "nbconvert_exporter": "python",
   "pygments_lexer": "ipython3",
   "version": "3.9.13"
  }
 },
 "nbformat": 4,
 "nbformat_minor": 5
}
